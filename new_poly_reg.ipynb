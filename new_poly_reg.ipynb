{
  "nbformat": 4,
  "nbformat_minor": 0,
  "metadata": {
    "colab": {
      "provenance": [],
      "authorship_tag": "ABX9TyMA53Lca86PmlCWEw+CmS4F",
      "include_colab_link": true
    },
    "kernelspec": {
      "name": "python3",
      "display_name": "Python 3"
    },
    "language_info": {
      "name": "python"
    }
  },
  "cells": [
    {
      "cell_type": "markdown",
      "metadata": {
        "id": "view-in-github",
        "colab_type": "text"
      },
      "source": [
        "<a href=\"https://colab.research.google.com/github/01PrathamS/ML-Regression/blob/main/new_poly_reg.ipynb\" target=\"_parent\"><img src=\"https://colab.research.google.com/assets/colab-badge.svg\" alt=\"Open In Colab\"/></a>"
      ]
    },
    {
      "cell_type": "code",
      "source": [
        "## Importing the Libraries \n",
        "\n",
        "import pandas as pd \n",
        "import numpy as np \n",
        "import matplotlib.pyplot as mtp"
      ],
      "metadata": {
        "id": "JbnuCRme5KKy"
      },
      "execution_count": 8,
      "outputs": []
    },
    {
      "cell_type": "code",
      "source": [
        "# Importing the datasets\n",
        "\n",
        "dataset = pd.read_csv('/content/Position_Salaries.csv') \n",
        "X = dataset.iloc[:, 1:-1].values \n",
        "y = dataset.iloc[:, -1].values "
      ],
      "metadata": {
        "id": "MitNltDG5NiQ"
      },
      "execution_count": 4,
      "outputs": []
    },
    {
      "cell_type": "code",
      "source": [
        "\n",
        "## Train a model \n",
        "\n",
        "from sklearn.linear_model import LinearRegression \n",
        "\n",
        "regressor1 = LinearRegression() \n",
        "regressor1.fit(X,y)"
      ],
      "metadata": {
        "colab": {
          "base_uri": "https://localhost:8080/"
        },
        "id": "xvijM34u6GL-",
        "outputId": "18a7bd48-4731-4a94-d0c8-b82d68c03436"
      },
      "execution_count": 6,
      "outputs": [
        {
          "output_type": "execute_result",
          "data": {
            "text/plain": [
              "LinearRegression()"
            ]
          },
          "metadata": {},
          "execution_count": 6
        }
      ]
    },
    {
      "cell_type": "code",
      "source": [
        "## Building Polynomial regression model \n",
        "\n",
        "from sklearn.preprocessing import PolynomialFeatures \n",
        "\n",
        "poly_reg = PolynomialFeatures(degree=2)\n",
        "x_poly = poly_reg.fit_transform(X) \n",
        "regressor2 = LinearRegression() \n",
        "regressor2.fit(x_poly, y)"
      ],
      "metadata": {
        "colab": {
          "base_uri": "https://localhost:8080/"
        },
        "id": "XE-Dnohl6rGc",
        "outputId": "1d9a3420-f435-484c-d499-a642fd6a1aa3"
      },
      "execution_count": 7,
      "outputs": [
        {
          "output_type": "execute_result",
          "data": {
            "text/plain": [
              "LinearRegression()"
            ]
          },
          "metadata": {},
          "execution_count": 7
        }
      ]
    },
    {
      "cell_type": "code",
      "source": [
        "#Visulaizing the result for Linear Regression model  \n",
        "mtp.scatter(X,y,color=\"blue\")  \n",
        "mtp.plot(X,regressor1.predict(X), color=\"red\")  \n",
        "mtp.title(\"Bluff detection model(Linear Regression)\")  \n",
        "mtp.xlabel(\"Position Levels\")  \n",
        "mtp.ylabel(\"Salary\")  \n",
        "mtp.show() "
      ],
      "metadata": {
        "colab": {
          "base_uri": "https://localhost:8080/",
          "height": 295
        },
        "id": "91PAQM0G8Q0c",
        "outputId": "653d1a38-8686-4346-da8a-5857133ec2ae"
      },
      "execution_count": 9,
      "outputs": [
        {
          "output_type": "display_data",
          "data": {
            "text/plain": [
              "<Figure size 432x288 with 1 Axes>"
            ],
            "image/png": "[encoded data removed]"
          },
          "metadata": {
            "needs_background": "light"
          }
        }
      ]
    },
    {
      "cell_type": "code",
      "source": [
        "mtp.scatter(X,y,color=\"blue\")  \n",
        "mtp.plot(X,regressor2.predict(poly_reg.fit_transform(X)), color=\"red\")  \n",
        "mtp.title(\"Bluff detection model(Linear Regression)\")  \n",
        "mtp.xlabel(\"Position Levels\")  \n",
        "mtp.ylabel(\"Salary\")  \n",
        "mtp.show() "
      ],
      "metadata": {
        "colab": {
          "base_uri": "https://localhost:8080/",
          "height": 295
        },
        "id": "dh3icMEl8gbu",
        "outputId": "48926cde-cf28-4b4a-c676-c2cfbe5dc9cb"
      },
      "execution_count": 11,
      "outputs": [
        {
          "output_type": "display_data",
          "data": {
            "text/plain": [
              "<Figure size 432x288 with 1 Axes>"
            ],
            "image/png": "[encoded data removed]"
          },
          "metadata": {
            "needs_background": "light"
          }
        }
      ]
    },
    {
      "cell_type": "code",
      "source": [
        "## if we change the degree =3 or degree=4 we get more accurate results"
      ],
      "metadata": {
        "id": "I0isuH3y8klr"
      },
      "execution_count": 12,
      "outputs": []
    },
    {
      "cell_type": "code",
      "source": [
        "poly_pred = regressor2.predict(poly_reg.fit_transform([[6.5]]))  \n",
        "print(poly_pred)  \n",
        "\n",
        "\n",
        "## if we change the degree of polynomial we get more accurate results"
      ],
      "metadata": {
        "colab": {
          "base_uri": "https://localhost:8080/"
        },
        "id": "1Ld2vbLR88xe",
        "outputId": "40f95a8e-0156-445f-93df-f8b44c3a4da2"
      },
      "execution_count": 14,
      "outputs": [
        {
          "output_type": "stream",
          "name": "stdout",
          "text": [
            "[189498.10606061]\n"
          ]
        }
      ]
    },
    {
      "cell_type": "code",
      "source": [],
      "metadata": {
        "id": "X1qvmTNp9CFZ"
      },
      "execution_count": null,
      "outputs": []
    }
  ]
}